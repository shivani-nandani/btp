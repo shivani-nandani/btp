{
 "cells": [
  {
   "cell_type": "code",
   "execution_count": 1,
   "metadata": {},
   "outputs": [],
   "source": [
    "# import cv2\n",
    "# import numpy as np\n",
    "# import glob\n",
    "\n",
    "# img_array = []\n",
    "# for filename in glob.glob('/mnt/e/DAIICT/Study Material/Semester 8/btp/code/offline_frame_based_try/bboxs_frames/*.jpg'):\n",
    "#     img = cv2.imread(filename)\n",
    "#     height, width, layers = img.shape\n",
    "#     size = (width,height)\n",
    "#     img_array.append(img)\n",
    "\n",
    "\n",
    "# out = cv2.VideoWriter('project.avi',cv2.VideoWriter_fourcc(*'DIVX'), 15, size)\n",
    " \n",
    "# for i in range(len(img_array)):\n",
    "#     out.write(img_array[i])\n",
    "# out.release()"
   ]
  },
  {
   "cell_type": "code",
   "execution_count": 7,
   "metadata": {},
   "outputs": [],
   "source": [
    "import cv2\n",
    "import numpy as np\n",
    "import os\n",
    "\n",
    "from os.path import isfile, join\n",
    "\n",
    "def convert_frames_to_video(pathIn,pathOut,fps):\n",
    "    frame_array = []\n",
    "    files = [f for f in os.listdir(pathIn) if isfile(join(pathIn, f))]\n",
    "\n",
    "    #for sorting the file names properly\n",
    "    files.sort(key = lambda x: int(x[5:-4]))\n",
    "\n",
    "    for i in range(len(files)):\n",
    "        filename=pathIn + files[i]\n",
    "        #reading each files\n",
    "        img = cv2.imread(filename)\n",
    "        height, width, layers = img.shape\n",
    "        size = (width,height)\n",
    "        # print(filename)\n",
    "        #inserting the frames into an image array\n",
    "        frame_array.append(img)\n",
    "\n",
    "    out = cv2.VideoWriter(pathOut,cv2.VideoWriter_fourcc(*'DIVX'), fps, size)\n",
    "\n",
    "    for i in range(len(frame_array)):\n",
    "        # writing to a image array\n",
    "        out.write(frame_array[i])\n",
    "    out.release()\n",
    "\n",
    "\n",
    "pathIn= './street_reid_frames/'\n",
    "pathOut = 'street_reid_video_v6.avi'\n",
    "fps = 15\n",
    "convert_frames_to_video(pathIn, pathOut, fps)"
   ]
  }
 ],
 "metadata": {
  "interpreter": {
   "hash": "3bcdae471a8c02ccfc3f2db7ab73cd57b7d11f1ddde746ab8e5566e59ca8f31f"
  },
  "kernelspec": {
   "display_name": "Python 3.9.7",
   "language": "python",
   "name": "python3"
  },
  "language_info": {
   "codemirror_mode": {
    "name": "ipython",
    "version": 3
   },
   "file_extension": ".py",
   "mimetype": "text/x-python",
   "name": "python",
   "nbconvert_exporter": "python",
   "pygments_lexer": "ipython3",
   "version": "3.9.7"
  },
  "orig_nbformat": 4
 },
 "nbformat": 4,
 "nbformat_minor": 2
}
